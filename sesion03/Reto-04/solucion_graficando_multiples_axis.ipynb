{
  "nbformat": 4,
  "nbformat_minor": 0,
  "metadata": {
    "kernelspec": {
      "display_name": "Python 3",
      "language": "python",
      "name": "python3"
    },
    "language_info": {
      "codemirror_mode": {
        "name": "ipython",
        "version": 3
      },
      "file_extension": ".py",
      "mimetype": "text/x-python",
      "name": "python",
      "nbconvert_exporter": "python",
      "pygments_lexer": "ipython3",
      "version": "3.8.5"
    },
    "colab": {
      "name": "graficando_multiples_axis.ipynb",
      "provenance": []
    }
  },
  "cells": [
    {
      "cell_type": "markdown",
      "metadata": {
        "id": "o1wmd1p_ZwZ1"
      },
      "source": [
        "## Reto 4: Graficando múltiples axis\n",
        "\n",
        "### 1. Objetivos:\n",
        "    - Usar subplots para graficar múltiples gráficas de barras al mismo tiempo\n",
        " \n",
        "---\n",
        "    \n",
        "### 2. Desarrollo:"
      ]
    },
    {
      "cell_type": "markdown",
      "metadata": {
        "id": "oVCb5xPAZwZ7"
      },
      "source": [
        "En el Reto pasado generamos tablas de contingencia para segmentar nuestros datos usando dos o más variables categóricas. El problema con nuestras gráficas es que resultaba muy incómodo e ineficiente compararlas. Una manera mucho más efectiva de comparar varias gráficas es graficarlas en la misma figura. Tu Reto consiste en lo siguiente:\n",
        "\n",
        "1. Lee el dataset 'melbourne_housing-clean.csv'.\n",
        "2. Crea una tabla de contingencia donde el índice esté dado por la variable 'region_name' y las columnas por la variable 'type'. Esto nos va a dar una tabla donde tenemos la frecuencia de cada tipo de propiedad segmentada por regiones.\n",
        "3. Genera una figura con 8 subplots para hacer gráficas de barras de cada región en nuestro dataset. Cada gráfica tendrá 3 barras, correspondiendo a los tipos 'h', 't' y 'u'.\n",
        "4. Asegúrate de que compartan eje `x` y `y` para que sea fácil compararlas. Además agrega anotaciones y títulos donde creas necesario.\n",
        "5. Describe tus hallazgos y comparte con tus compañeros qué podrían significar."
      ]
    },
    {
      "cell_type": "code",
      "metadata": {
        "id": "Bu8wprCyZwZ9"
      },
      "source": [
        "import pandas as pd\n",
        "import matplotlib.pyplot as plt\n",
        "import seaborn as sns\n",
        "sns.set_style('whitegrid')"
      ],
      "execution_count": 1,
      "outputs": []
    },
    {
      "cell_type": "code",
      "metadata": {
        "id": "ISfYUsDcaSO6",
        "outputId": "8d97718b-8891-4768-b59d-7364f668e47c",
        "colab": {
          "base_uri": "https://localhost:8080/"
        }
      },
      "source": [
        "df = pd.read_csv('https://raw.githubusercontent.com/jaeem006/beduadp/master/Datasets/melbourne_housing-clean.csv')\n",
        "print(df.keys())"
      ],
      "execution_count": 10,
      "outputs": [
        {
          "output_type": "stream",
          "text": [
            "Index(['Unnamed: 0', 'suburb', 'address', 'rooms', 'type', 'price', 'method',\n",
            "       'seller_g', 'date', 'distance', 'postcode', 'bedroom_2', 'bathroom',\n",
            "       'car', 'land_size', 'council_area', 'latitude', 'longitude',\n",
            "       'region_name', 'property_count'],\n",
            "      dtype='object')\n"
          ],
          "name": "stdout"
        }
      ]
    },
    {
      "cell_type": "code",
      "metadata": {
        "id": "wY8yVKhaa9ah",
        "outputId": "2d1d9ed1-7176-4f28-d655-a4a8cb47524b",
        "colab": {
          "base_uri": "https://localhost:8080/",
          "height": 314
        }
      },
      "source": [
        "crosstab = pd.crosstab(df['region_name'],df['type'])\n",
        "crosstab\n"
      ],
      "execution_count": 13,
      "outputs": [
        {
          "output_type": "execute_result",
          "data": {
            "text/html": [
              "<div>\n",
              "<style scoped>\n",
              "    .dataframe tbody tr th:only-of-type {\n",
              "        vertical-align: middle;\n",
              "    }\n",
              "\n",
              "    .dataframe tbody tr th {\n",
              "        vertical-align: top;\n",
              "    }\n",
              "\n",
              "    .dataframe thead th {\n",
              "        text-align: right;\n",
              "    }\n",
              "</style>\n",
              "<table border=\"1\" class=\"dataframe\">\n",
              "  <thead>\n",
              "    <tr style=\"text-align: right;\">\n",
              "      <th>type</th>\n",
              "      <th>h</th>\n",
              "      <th>t</th>\n",
              "      <th>u</th>\n",
              "    </tr>\n",
              "    <tr>\n",
              "      <th>region_name</th>\n",
              "      <th></th>\n",
              "      <th></th>\n",
              "      <th></th>\n",
              "    </tr>\n",
              "  </thead>\n",
              "  <tbody>\n",
              "    <tr>\n",
              "      <th>Eastern Metropolitan</th>\n",
              "      <td>863</td>\n",
              "      <td>102</td>\n",
              "      <td>159</td>\n",
              "    </tr>\n",
              "    <tr>\n",
              "      <th>Eastern Victoria</th>\n",
              "      <td>33</td>\n",
              "      <td>0</td>\n",
              "      <td>3</td>\n",
              "    </tr>\n",
              "    <tr>\n",
              "      <th>Northern Metropolitan</th>\n",
              "      <td>2332</td>\n",
              "      <td>290</td>\n",
              "      <td>796</td>\n",
              "    </tr>\n",
              "    <tr>\n",
              "      <th>Northern Victoria</th>\n",
              "      <td>21</td>\n",
              "      <td>1</td>\n",
              "      <td>0</td>\n",
              "    </tr>\n",
              "    <tr>\n",
              "      <th>South-Eastern Metropolitan</th>\n",
              "      <td>224</td>\n",
              "      <td>20</td>\n",
              "      <td>28</td>\n",
              "    </tr>\n",
              "    <tr>\n",
              "      <th>Southern Metropolitan</th>\n",
              "      <td>2360</td>\n",
              "      <td>386</td>\n",
              "      <td>1478</td>\n",
              "    </tr>\n",
              "    <tr>\n",
              "      <th>Western Metropolitan</th>\n",
              "      <td>1908</td>\n",
              "      <td>226</td>\n",
              "      <td>394</td>\n",
              "    </tr>\n",
              "    <tr>\n",
              "      <th>Western Victoria</th>\n",
              "      <td>21</td>\n",
              "      <td>0</td>\n",
              "      <td>1</td>\n",
              "    </tr>\n",
              "  </tbody>\n",
              "</table>\n",
              "</div>"
            ],
            "text/plain": [
              "type                           h    t     u\n",
              "region_name                                \n",
              "Eastern Metropolitan         863  102   159\n",
              "Eastern Victoria              33    0     3\n",
              "Northern Metropolitan       2332  290   796\n",
              "Northern Victoria             21    1     0\n",
              "South-Eastern Metropolitan   224   20    28\n",
              "Southern Metropolitan       2360  386  1478\n",
              "Western Metropolitan        1908  226   394\n",
              "Western Victoria              21    0     1"
            ]
          },
          "metadata": {
            "tags": []
          },
          "execution_count": 13
        }
      ]
    },
    {
      "cell_type": "code",
      "metadata": {
        "id": "kRZc-NLfbir0",
        "outputId": "f9dfce5f-f708-46f4-8dcc-d2b659b61907",
        "colab": {
          "base_uri": "https://localhost:8080/",
          "height": 269
        }
      },
      "source": [
        "fig, axes = plt.subplots(4, 2) # AXES "
      ],
      "execution_count": 15,
      "outputs": [
        {
          "output_type": "display_data",
          "data": {
            "image/png": "[encoded data removed]",
            "text/plain": [
              "<Figure size 432x288 with 8 Axes>"
            ]
          },
          "metadata": {
            "tags": [],
            "needs_background": "light"
          }
        }
      ]
    },
    {
      "cell_type": "code",
      "metadata": {
        "id": "Cx79g2Rpbwwr",
        "outputId": "ad04bfe9-baa9-404e-90b5-20deecd6cea9",
        "colab": {
          "base_uri": "https://localhost:8080/",
          "height": 540
        }
      },
      "source": [
        "fig, axes = plt.subplots(4, 2, figsize=(10, 8), sharex=True, sharey=True)\n",
        "\n",
        "sns.barplot(x=crosstab.columns, y=crosstab.iloc[0], ax=axes[0, 0])\n",
        "sns.barplot(x=crosstab.columns, y=crosstab.iloc[1], ax=axes[0, 1])\n",
        "sns.barplot(x=crosstab.columns, y=crosstab.iloc[2], ax=axes[1, 0])\n",
        "sns.barplot(x=crosstab.columns, y=crosstab.iloc[3], ax=axes[1, 1])\n",
        "sns.barplot(x=crosstab.columns, y=crosstab.iloc[4], ax=axes[2, 0])\n",
        "sns.barplot(x=crosstab.columns, y=crosstab.iloc[5], ax=axes[2, 1])\n",
        "sns.barplot(x=crosstab.columns, y=crosstab.iloc[6], ax=axes[3, 0])\n",
        "sns.barplot(x=crosstab.columns, y=crosstab.iloc[7], ax=axes[3, 1])\n",
        "\n",
        "axes[0, 0].set(xlabel='', ylabel='', title='Rango de Precio: 1')\n",
        "axes[0, 1].set(xlabel='', ylabel='', title='Rango de Precio: 2')\n",
        "axes[1, 0].set(xlabel='', ylabel='', title='Rango de Precio: 3')\n",
        "axes[1, 1].set(xlabel='', ylabel='', title='Rango de Precio: 4')\n",
        "axes[2, 0].set(xlabel='', ylabel='', title='Rango de Precio: 5')\n",
        "axes[2, 1].set(xlabel='', ylabel='', title='Rango de Precio: 6')\n",
        "axes[3, 0].set(xlabel='', ylabel='', title='Rango de Precio: 7')\n",
        "axes[3, 1].set(xlabel='', ylabel='', title='Rango de Precio: 8')\n",
        "\n",
        "fig.suptitle('Ratings de restaurantes separados por rango de precio', fontsize=15);"
      ],
      "execution_count": 17,
      "outputs": [
        {
          "output_type": "display_data",
          "data": {
            "image/png": "[encoded data removed]",
            "text/plain": [
              "<Figure size 720x576 with 8 Axes>"
            ]
          },
          "metadata": {
            "tags": [],
            "needs_background": "light"
          }
        }
      ]
    }
  ]
}