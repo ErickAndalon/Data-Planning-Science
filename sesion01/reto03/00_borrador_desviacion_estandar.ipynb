{
  "nbformat": 4,
  "nbformat_minor": 0,
  "metadata": {
    "kernelspec": {
      "display_name": "Python 3",
      "language": "python",
      "name": "python3"
    },
    "language_info": {
      "codemirror_mode": {
        "name": "ipython",
        "version": 3
      },
      "file_extension": ".py",
      "mimetype": "text/x-python",
      "name": "python",
      "nbconvert_exporter": "python",
      "pygments_lexer": "ipython3",
      "version": "3.8.5"
    },
    "colab": {
      "name": "desviacion_estandar.ipynb",
      "provenance": []
    }
  },
  "cells": [
    {
      "cell_type": "markdown",
      "metadata": {
        "id": "Sw5hBxn__4XV"
      },
      "source": [
        "# Reto 3: Desviación estándar\n",
        "\n",
        "## 1. Objetivos:\n",
        "- Utilizar la desviación estándar para realizar un análisis de dispersión de nuestros datos\n",
        " \n",
        "---\n",
        "    \n",
        "## 2. Desarrollo:"
      ]
    },
    {
      "cell_type": "markdown",
      "metadata": {
        "id": "Ml0jceqS_4XX"
      },
      "source": [
        "### a) Desviación estándar y distribución de los datos\n",
        "\n",
        "Como ya vimos, la desviación estándar es la medida que nos da la \"desviación típica\" (o esperada) de nuestros datos a comparación del promedio. Eso quiere decir que normalmente vamos a esperar que una gran parte de nuestros datos se encuentren a 1 desviación estándar de distancia del promedio. Entre más nos alejamos, menos muestras deberíamos de encontrar.\n",
        "\n",
        "Vamos a comprobar esto usando nuestro dataset de meteoritos que orbitan cerca de la Tierra. Tu Reto consiste en los siguientes pasos:\n",
        "\n",
        "1. Crea un DataFrame con el dataset `near_earth_objects-jan_feb_1995-clean.csv`.\n",
        "2. Obtén la cantidad total de datos en tu DataFrame.\n",
        "3. Obtén la desviación estándar de la columna 'estimated_diameter.meters.estimated_diameter_max'. Los siguientes pasos realízalos todos utilizando esta columna.\n",
        "4. Obtén el porcentaje de muestras que están a una distancia de 1 desviación estándar del promedio.\n",
        "5. Obtén el porcentaje de muestras que están a una distancia de 2 desviaciones estándares del promedio (multiplicar * 2).\n",
        "6. Obtén el porcentaje de muestras que están a una distancia de 3 desviaciones estándares del promedio (multiplicar * 3).\n",
        "7. Compara los porcentajes obtenidos y comenta con tus compañeros y la experta tus hallazgos. ¿Qué significa esto? ¿La definición de desviación estándar tiene sentido? ¿Qué puedo inferir acerca de la dispersión de mis datos a partir de los valores obtenidos?\n",
        "\n",
        "> Nota: Para obtener los porcentajes de los subconjuntos primero necesitas filtrar el DataFrame original para que sólo permanezcan las muestras que cumplan con los requisitos.\n",
        "\n",
        "> Nota: Este Reto está diseñado para tener una dificultad media. No te frustres si al principio parece demasiado difícil. Comienza poco a poco, resolviendo el problema en pedazos pequeños, y si no tienes la menor idea de cómo proceder recuerda que la experta está ahí para ayudarte."
      ]
    },
    {
      "cell_type": "code",
      "metadata": {
        "id": "TvaSL-NJ_9C2"
      },
      "source": [
        "import pandas as pd\n",
        "import numpy as np\n",
        "import matplotlib.pyplot as plt"
      ],
      "execution_count": 3,
      "outputs": []
    },
    {
      "cell_type": "code",
      "metadata": {
        "colab": {
          "base_uri": "https://localhost:8080/"
        },
        "id": "5ua222MK__u_",
        "outputId": "a50d056e-69b8-423e-e66f-4d8808f86a8e"
      },
      "source": [
        "df = pd.read_csv ('https://raw.githubusercontent.com/jaeem006/beduadp/master/Datasets/near_earth_objects-jan_feb_1995-clean.csv',index_col=0)\n",
        "df\n",
        "df.shape # --- Datos del data.frame (333, 10)"
      ],
      "execution_count": 4,
      "outputs": [
        {
          "output_type": "execute_result",
          "data": {
            "text/plain": [
              "(333, 10)"
            ]
          },
          "metadata": {
            "tags": []
          },
          "execution_count": 4
        }
      ]
    },
    {
      "cell_type": "code",
      "metadata": {
        "colab": {
          "base_uri": "https://localhost:8080/"
        },
        "id": "g38-emJ0AF-5",
        "outputId": "10a6e774-34d1-4d24-8465-a3488147eb5b"
      },
      "source": [
        "estimated = 'estimated_diameter.meters.estimated_diameter_max'\n",
        "long=len(df[estimated])\n",
        "media=df[estimated].mean()\n",
        "sd=df[estimated].std()\n",
        "\n",
        "\n",
        "print(f'La DS es de:', sd)\n",
        "print(f'La media es de:', media)\n",
        "print(f'Longitud de filas:', long)  # --- Medidas de dispersión"
      ],
      "execution_count": 33,
      "outputs": [
        {
          "output_type": "stream",
          "text": [
            "La DS es de: 614.691591855223\n",
            "La media es de: 410.0860422397653\n",
            "Longitud de filas: 333\n"
          ],
          "name": "stdout"
        }
      ]
    },
    {
      "cell_type": "code",
      "metadata": {
        "id": "4HKaNMjkSJgS"
      },
      "source": [
        "print(media)\n",
        "print(sd)\n",
        "print(media-sd)\n",
        "print(media+sd)\n"
      ],
      "execution_count": null,
      "outputs": []
    },
    {
      "cell_type": "code",
      "metadata": {
        "id": "GrwKkOCATamZ"
      },
      "source": [
        ""
      ],
      "execution_count": 31,
      "outputs": []
    },
    {
      "cell_type": "code",
      "metadata": {
        "id": "jojJizZtTag8"
      },
      "source": [
        ""
      ],
      "execution_count": null,
      "outputs": []
    },
    {
      "cell_type": "code",
      "metadata": {
        "id": "V-0CqP6JTaci"
      },
      "source": [
        ""
      ],
      "execution_count": null,
      "outputs": []
    },
    {
      "cell_type": "code",
      "metadata": {
        "id": "DTodN2-uTaTZ"
      },
      "source": [
        ""
      ],
      "execution_count": null,
      "outputs": []
    },
    {
      "cell_type": "code",
      "metadata": {
        "id": "fi83mnteJ18s"
      },
      "source": [
        "for i in estimated:\n",
        "  if i >= media and i <=sd:\n",
        "      listado=[]\n",
        "      listado_=listado.append(i)\n",
        "      print(listado)"
      ],
      "execution_count": null,
      "outputs": []
    },
    {
      "cell_type": "code",
      "metadata": {
        "id": "nrEOiqg_Kmch",
        "outputId": "35fb0df4-2daa-4afb-f39e-93104b29bbf6",
        "colab": {
          "base_uri": "https://localhost:8080/"
        }
      },
      "source": [
        "listado_1sd=[]\n",
        "for i in estimated:\n",
        "  if i >= media and i <=sd:\n",
        "    listado_a=listado_1sd.append(i)\n",
        "print(listado_1sd)\n",
        "\n",
        "listado_2sd=[]\n",
        "for i in estimated:\n",
        "  if i >= media and i <=sd:\n",
        "    listado_b=listado_2sd.append(i)\n",
        "print(listado_2sd)\n",
        "\n",
        "listado_3sd=[]\n",
        "for i in estimated:\n",
        "  if i >= media and i <=sd:\n",
        "    listado_c=listado_3sd.append(i)\n",
        "print(listado_3sd)\n"
      ],
      "execution_count": 15,
      "outputs": [
        {
          "output_type": "stream",
          "text": [
            "[517.6544821978, 430.566244241, 472.10649880550005, 450.8582061718, 517.6544821978, 472.10649880550005, 517.6544821978, 594.3468684194, 411.1875710413, 430.566244241, 542.0507863358, 494.3561926196, 567.5968528656, 411.1875710413, 517.6544821978, 472.10649880550005, 472.10649880550005, 411.1875710413, 494.3561926196, 411.1875710413, 567.5968528656, 411.1875710413, 567.5968528656, 450.8582061718, 567.5968528656, 430.566244241, 430.566244241, 430.566244241, 450.8582061718, 542.0507863358, 411.1875710413, 494.3561926196, 567.5968528656, 567.5968528656, 450.8582061718, 472.10649880550005, 567.5968528656, 542.0507863358, 450.8582061718, 542.0507863358, 594.3468684194, 472.10649880550005, 517.6544821978]\n",
            "[517.6544821978, 430.566244241, 472.10649880550005, 450.8582061718, 517.6544821978, 472.10649880550005, 517.6544821978, 594.3468684194, 411.1875710413, 430.566244241, 542.0507863358, 494.3561926196, 567.5968528656, 411.1875710413, 517.6544821978, 472.10649880550005, 472.10649880550005, 411.1875710413, 494.3561926196, 411.1875710413, 567.5968528656, 411.1875710413, 567.5968528656, 450.8582061718, 567.5968528656, 430.566244241, 430.566244241, 430.566244241, 450.8582061718, 542.0507863358, 411.1875710413, 494.3561926196, 567.5968528656, 567.5968528656, 450.8582061718, 472.10649880550005, 567.5968528656, 542.0507863358, 450.8582061718, 542.0507863358, 594.3468684194, 472.10649880550005, 517.6544821978]\n",
            "[517.6544821978, 430.566244241, 472.10649880550005, 450.8582061718, 517.6544821978, 472.10649880550005, 517.6544821978, 594.3468684194, 411.1875710413, 430.566244241, 542.0507863358, 494.3561926196, 567.5968528656, 411.1875710413, 517.6544821978, 472.10649880550005, 472.10649880550005, 411.1875710413, 494.3561926196, 411.1875710413, 567.5968528656, 411.1875710413, 567.5968528656, 450.8582061718, 567.5968528656, 430.566244241, 430.566244241, 430.566244241, 450.8582061718, 542.0507863358, 411.1875710413, 494.3561926196, 567.5968528656, 567.5968528656, 450.8582061718, 472.10649880550005, 567.5968528656, 542.0507863358, 450.8582061718, 542.0507863358, 594.3468684194, 472.10649880550005, 517.6544821978]\n"
          ],
          "name": "stdout"
        }
      ]
    },
    {
      "cell_type": "code",
      "metadata": {
        "id": "AcoYN2PTOqrZ",
        "outputId": "a4ca37ca-2718-46da-bede-3f0a17bec251",
        "colab": {
          "base_uri": "https://localhost:8080/",
          "height": 128
        }
      },
      "source": [
        "listado_1=[]\n",
        "listado_2=[]\n",
        "for i in estimated:\n",
        "  if i >= media and i <=sd:\n",
        "    listado_=listado_1.append(i)\n",
        "print(listado_1)\n",
        "   if i estimated >= (media - (2*sd)):\n",
        "     listado_a=listado_2.append(i)\n",
        " print(listado_2)"
      ],
      "execution_count": 14,
      "outputs": [
        {
          "output_type": "error",
          "ename": "IndentationError",
          "evalue": "ignored",
          "traceback": [
            "\u001b[0;36m  File \u001b[0;32m\"<ipython-input-14-817c7c26560b>\"\u001b[0;36m, line \u001b[0;32m7\u001b[0m\n\u001b[0;31m    if i estimated >= (media - (2*sd)):\u001b[0m\n\u001b[0m    ^\u001b[0m\n\u001b[0;31mIndentationError\u001b[0m\u001b[0;31m:\u001b[0m unexpected indent\n"
          ]
        }
      ]
    }
  ]
}