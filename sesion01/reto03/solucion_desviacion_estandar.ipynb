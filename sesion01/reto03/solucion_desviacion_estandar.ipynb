{
  "nbformat": 4,
  "nbformat_minor": 0,
  "metadata": {
    "kernelspec": {
      "display_name": "Python 3",
      "language": "python",
      "name": "python3"
    },
    "language_info": {
      "codemirror_mode": {
        "name": "ipython",
        "version": 3
      },
      "file_extension": ".py",
      "mimetype": "text/x-python",
      "name": "python",
      "nbconvert_exporter": "python",
      "pygments_lexer": "ipython3",
      "version": "3.8.5"
    },
    "colab": {
      "name": "desviacion_estandar.ipynb",
      "provenance": []
    }
  },
  "cells": [
    {
      "cell_type": "markdown",
      "metadata": {
        "id": "Sw5hBxn__4XV"
      },
      "source": [
        "# Reto 3: Desviación estándar\n",
        "\n",
        "## 1. Objetivos:\n",
        "- Utilizar la desviación estándar para realizar un análisis de dispersión de nuestros datos\n",
        " \n",
        "---\n",
        "    \n",
        "## 2. Desarrollo:"
      ]
    },
    {
      "cell_type": "markdown",
      "metadata": {
        "id": "Ml0jceqS_4XX"
      },
      "source": [
        "### a) Desviación estándar y distribución de los datos\n",
        "\n",
        "Como ya vimos, la desviación estándar es la medida que nos da la \"desviación típica\" (o esperada) de nuestros datos a comparación del promedio. Eso quiere decir que normalmente vamos a esperar que una gran parte de nuestros datos se encuentren a 1 desviación estándar de distancia del promedio. Entre más nos alejamos, menos muestras deberíamos de encontrar.\n",
        "\n",
        "Vamos a comprobar esto usando nuestro dataset de meteoritos que orbitan cerca de la Tierra. Tu Reto consiste en los siguientes pasos:\n",
        "\n",
        "1. Crea un DataFrame con el dataset `near_earth_objects-jan_feb_1995-clean.csv`.\n",
        "2. Obtén la cantidad total de datos en tu DataFrame.\n",
        "3. Obtén la desviación estándar de la columna 'estimated_diameter.meters.estimated_diameter_max'. Los siguientes pasos realízalos todos utilizando esta columna.\n",
        "4. Obtén el porcentaje de muestras que están a una distancia de 1 desviación estándar del promedio.\n",
        "5. Obtén el porcentaje de muestras que están a una distancia de 2 desviaciones estándares del promedio (multiplicar * 2).\n",
        "6. Obtén el porcentaje de muestras que están a una distancia de 3 desviaciones estándares del promedio (multiplicar * 3).\n",
        "7. Compara los porcentajes obtenidos y comenta con tus compañeros y la experta tus hallazgos. ¿Qué significa esto? ¿La definición de desviación estándar tiene sentido? ¿Qué puedo inferir acerca de la dispersión de mis datos a partir de los valores obtenidos?\n",
        "\n",
        "> Nota: Para obtener los porcentajes de los subconjuntos primero necesitas filtrar el DataFrame original para que sólo permanezcan las muestras que cumplan con los requisitos.\n",
        "\n",
        "> Nota: Este Reto está diseñado para tener una dificultad media. No te frustres si al principio parece demasiado difícil. Comienza poco a poco, resolviendo el problema en pedazos pequeños, y si no tienes la menor idea de cómo proceder recuerda que la experta está ahí para ayudarte."
      ]
    },
    {
      "cell_type": "code",
      "metadata": {
        "id": "TvaSL-NJ_9C2"
      },
      "source": [
        "import pandas as pd\n",
        "import numpy as np\n",
        "import matplotlib.pyplot as plt"
      ],
      "execution_count": 1,
      "outputs": []
    },
    {
      "cell_type": "code",
      "metadata": {
        "colab": {
          "base_uri": "https://localhost:8080/"
        },
        "id": "5ua222MK__u_",
        "outputId": "7aea5607-b3e1-4c42-899a-962b6bc76f43"
      },
      "source": [
        "df = pd.read_csv ('https://raw.githubusercontent.com/jaeem006/beduadp/master/Datasets/near_earth_objects-jan_feb_1995-clean.csv',index_col=0)\n",
        "df\n",
        "df.shape # --- Datos del data.frame (333, 10)"
      ],
      "execution_count": 21,
      "outputs": [
        {
          "output_type": "execute_result",
          "data": {
            "text/plain": [
              "(333, 10)"
            ]
          },
          "metadata": {
            "tags": []
          },
          "execution_count": 21
        }
      ]
    },
    {
      "cell_type": "code",
      "metadata": {
        "colab": {
          "base_uri": "https://localhost:8080/"
        },
        "id": "g38-emJ0AF-5",
        "outputId": "771f3a24-90e4-441a-8f09-56650eaf79e1"
      },
      "source": [
        "estimated = df['estimated_diameter.meters.estimated_diameter_max']\n",
        "long=len(estimated)\n",
        "media=estimated.mean()\n",
        "sd= estimated.std()\n",
        "\n",
        "\n",
        "print(f'La DS es de:', sd)\n",
        "print(f'La media es de:', media)\n",
        "print(f'Longitud de filas:', long)  # --- Medidas de dispersión"
      ],
      "execution_count": 22,
      "outputs": [
        {
          "output_type": "stream",
          "text": [
            "La DS es de: 614.691591855223\n",
            "La media es de: 410.0860422397653\n",
            "Longitud de filas: 333\n"
          ],
          "name": "stdout"
        }
      ]
    },
    {
      "cell_type": "code",
      "metadata": {
        "id": "-gizC3spAIxH"
      },
      "source": [
        "bottom =  estimated >= (media - sd) # Todos los que sean mayores a 1 std\n",
        "top = estimated <= (media + sd) # Todos los que sean menores a 1 std\n",
        "within_one_std = df[bottom & top] # Aplicamos los dos filtros,sólo nos quedan los cercanos al promedio\n",
        "percentage_of_data_within_one_std = within_one_std.shape[0] * 100 / long # Sacamos el porcentaje de datos"
      ],
      "execution_count": 42,
      "outputs": []
    },
    {
      "cell_type": "code",
      "metadata": {
        "id": "6hluo_VLB1uo"
      },
      "source": [
        "bottom_2 = estimated >= (media - 2 * sd)\n",
        "top_2 = estimated <= (media + 2 * sd)\n",
        "within_two_std = df[bottom_2 & top_2]\n",
        "percentage_of_data_within_two_std = within_two_std.shape[0] * 100 / long # A 2 STD "
      ],
      "execution_count": 45,
      "outputs": []
    },
    {
      "cell_type": "code",
      "metadata": {
        "id": "R2oLPbg8VIB7"
      },
      "source": [
        "bottom_3 = estimated >= (media - 3 * sd)\n",
        "top_3 = estimated <= (media + 3 * sd)\n",
        "within_three_std = df[bottom_3 & top_3]\n",
        "percentage_of_data_within_three_std = within_three_std.shape[0] * 100 / long # A 3 STD"
      ],
      "execution_count": 48,
      "outputs": []
    },
    {
      "cell_type": "code",
      "metadata": {
        "id": "YCDsLSz4KDOD"
      },
      "source": [
        ""
      ],
      "execution_count": null,
      "outputs": []
    }
  ]
}